{
 "cells": [
  {
   "cell_type": "code",
   "execution_count": 2,
   "metadata": {},
   "outputs": [],
   "source": [
    "import pandas as pd\n",
    "import numpy as np\n",
    "\n",
    "#logistic regression imports\n",
    "from sklearn.model_selection import train_test_split\n",
    "from sklearn.linear_model import LogisticRegression\n",
    "from sklearn.metrics import classification_report, accuracy_score, confusion_matrix\n",
    "\n",
    "#linear regression imports\n",
    "from sklearn.model_selection import train_test_split\n",
    "from sklearn.preprocessing import StandardScaler\n",
    "from sklearn.linear_model import LinearRegression\n",
    "from sklearn.metrics import mean_squared_error, r2_score\n",
    "import matplotlib.pyplot as plt\n",
    "\n",
    "#kMeanClustering imports\n",
    "from sklearn.model_selection import train_test_split\n",
    "from sklearn.neighbors import KNeighborsClassifier\n",
    "from sklearn.metrics import classification_report, accuracy_score, confusion_matrix\n",
    "import matplotlib.pyplot as plt\n",
    "import seaborn as sns\n",
    "\n"
   ]
  },
  {
   "cell_type": "code",
   "execution_count": 3,
   "metadata": {},
   "outputs": [
    {
     "name": "stdout",
     "output_type": "stream",
     "text": [
      "<class 'pandas.core.frame.DataFrame'>\n",
      "RangeIndex: 373 entries, 0 to 372\n",
      "Data columns (total 15 columns):\n",
      " #   Column      Non-Null Count  Dtype  \n",
      "---  ------      --------------  -----  \n",
      " 0   Subject ID  373 non-null    object \n",
      " 1   MRI ID      373 non-null    object \n",
      " 2   Group       373 non-null    object \n",
      " 3   Visit       373 non-null    int64  \n",
      " 4   MR Delay    373 non-null    int64  \n",
      " 5   M/F         373 non-null    object \n",
      " 6   Hand        373 non-null    object \n",
      " 7   Age         373 non-null    int64  \n",
      " 8   EDUC        373 non-null    int64  \n",
      " 9   SES         354 non-null    float64\n",
      " 10  MMSE        371 non-null    float64\n",
      " 11  CDR         373 non-null    float64\n",
      " 12  eTIV        373 non-null    int64  \n",
      " 13  nWBV        373 non-null    float64\n",
      " 14  ASF         373 non-null    float64\n",
      "dtypes: float64(5), int64(5), object(5)\n",
      "memory usage: 43.8+ KB\n",
      "None\n",
      "<class 'pandas.core.frame.DataFrame'>\n",
      "RangeIndex: 436 entries, 0 to 435\n",
      "Data columns (total 12 columns):\n",
      " #   Column  Non-Null Count  Dtype  \n",
      "---  ------  --------------  -----  \n",
      " 0   ID      436 non-null    object \n",
      " 1   M/F     436 non-null    object \n",
      " 2   Hand    436 non-null    object \n",
      " 3   Age     436 non-null    int64  \n",
      " 4   Educ    235 non-null    float64\n",
      " 5   SES     216 non-null    float64\n",
      " 6   MMSE    235 non-null    float64\n",
      " 7   CDR     235 non-null    float64\n",
      " 8   eTIV    436 non-null    int64  \n",
      " 9   nWBV    436 non-null    float64\n",
      " 10  ASF     436 non-null    float64\n",
      " 11  Delay   20 non-null     float64\n",
      "dtypes: float64(7), int64(2), object(3)\n",
      "memory usage: 41.0+ KB\n",
      "None\n"
     ]
    }
   ],
   "source": [
    "longitudinal_df = pd.read_csv(\"/Users/gabeprice/Desktop/Blackwell Research 2024/Alzheimers Research/Alhemers Dataset/oasis_longitudinal.csv\")\n",
    "cross_df = pd.read_csv(\"/Users/gabeprice/Desktop/Blackwell Research 2024/Alzheimers Research/Alhemers Dataset/oasis_cross-sectional.csv\")\n",
    "print(longitudinal_df.info())\n",
    "print(cross_df.info())"
   ]
  },
  {
   "cell_type": "code",
   "execution_count": 4,
   "metadata": {},
   "outputs": [
    {
     "name": "stdout",
     "output_type": "stream",
     "text": [
      "    Subject ID         MRI ID        Group  Visit  MR Delay M/F Hand  Age  \\\n",
      "0    OAS2_0001  OAS2_0001_MR1  Nondemented      1         0   M    R   87   \n",
      "1    OAS2_0001  OAS2_0001_MR2  Nondemented      2       457   M    R   88   \n",
      "2    OAS2_0002  OAS2_0002_MR1     Demented      1         0   M    R   75   \n",
      "3    OAS2_0002  OAS2_0002_MR2     Demented      2       560   M    R   76   \n",
      "4    OAS2_0002  OAS2_0002_MR3     Demented      3      1895   M    R   80   \n",
      "..         ...            ...          ...    ...       ...  ..  ...  ...   \n",
      "368  OAS2_0185  OAS2_0185_MR2     Demented      2       842   M    R   82   \n",
      "369  OAS2_0185  OAS2_0185_MR3     Demented      3      2297   M    R   86   \n",
      "370  OAS2_0186  OAS2_0186_MR1  Nondemented      1         0   F    R   61   \n",
      "371  OAS2_0186  OAS2_0186_MR2  Nondemented      2       763   F    R   63   \n",
      "372  OAS2_0186  OAS2_0186_MR3  Nondemented      3      1608   F    R   65   \n",
      "\n",
      "     EDUC  SES  MMSE  CDR  eTIV   nWBV    ASF  \n",
      "0      14  2.0  27.0  0.0  1987  0.696  0.883  \n",
      "1      14  2.0  30.0  0.0  2004  0.681  0.876  \n",
      "2      12  NaN  23.0  0.5  1678  0.736  1.046  \n",
      "3      12  NaN  28.0  0.5  1738  0.713  1.010  \n",
      "4      12  NaN  22.0  0.5  1698  0.701  1.034  \n",
      "..    ...  ...   ...  ...   ...    ...    ...  \n",
      "368    16  1.0  28.0  0.5  1693  0.694  1.037  \n",
      "369    16  1.0  26.0  0.5  1688  0.675  1.040  \n",
      "370    13  2.0  30.0  0.0  1319  0.801  1.331  \n",
      "371    13  2.0  30.0  0.0  1327  0.796  1.323  \n",
      "372    13  2.0  30.0  0.0  1333  0.801  1.317  \n",
      "\n",
      "[373 rows x 15 columns]\n"
     ]
    }
   ],
   "source": [
    "print(longitudinal_df)\n",
    "long_nan_values =longitudinal_df.isna()"
   ]
  },
  {
   "cell_type": "code",
   "execution_count": 5,
   "metadata": {},
   "outputs": [
    {
     "name": "stdout",
     "output_type": "stream",
     "text": [
      "     Subject ID  MRI ID  Group  Visit  MR Delay    M/F   Hand    Age   EDUC  \\\n",
      "0         False   False  False  False     False  False  False  False  False   \n",
      "1         False   False  False  False     False  False  False  False  False   \n",
      "2         False   False  False  False     False  False  False  False  False   \n",
      "3         False   False  False  False     False  False  False  False  False   \n",
      "4         False   False  False  False     False  False  False  False  False   \n",
      "..          ...     ...    ...    ...       ...    ...    ...    ...    ...   \n",
      "368       False   False  False  False     False  False  False  False  False   \n",
      "369       False   False  False  False     False  False  False  False  False   \n",
      "370       False   False  False  False     False  False  False  False  False   \n",
      "371       False   False  False  False     False  False  False  False  False   \n",
      "372       False   False  False  False     False  False  False  False  False   \n",
      "\n",
      "       SES   MMSE    CDR   eTIV   nWBV    ASF  \n",
      "0    False  False  False  False  False  False  \n",
      "1    False  False  False  False  False  False  \n",
      "2     True  False  False  False  False  False  \n",
      "3     True  False  False  False  False  False  \n",
      "4     True  False  False  False  False  False  \n",
      "..     ...    ...    ...    ...    ...    ...  \n",
      "368  False  False  False  False  False  False  \n",
      "369  False  False  False  False  False  False  \n",
      "370  False  False  False  False  False  False  \n",
      "371  False  False  False  False  False  False  \n",
      "372  False  False  False  False  False  False  \n",
      "\n",
      "[373 rows x 15 columns]\n"
     ]
    }
   ],
   "source": [
    "print(long_nan_values)"
   ]
  },
  {
   "cell_type": "code",
   "execution_count": 6,
   "metadata": {},
   "outputs": [
    {
     "name": "stdout",
     "output_type": "stream",
     "text": [
      "                ID M/F Hand  Age  Educ  SES  MMSE  CDR  eTIV   nWBV    ASF  \\\n",
      "0    OAS1_0001_MR1   F    R   74   2.0  3.0  29.0  0.0  1344  0.743  1.306   \n",
      "1    OAS1_0002_MR1   F    R   55   4.0  1.0  29.0  0.0  1147  0.810  1.531   \n",
      "2    OAS1_0003_MR1   F    R   73   4.0  3.0  27.0  0.5  1454  0.708  1.207   \n",
      "3    OAS1_0004_MR1   M    R   28   NaN  NaN   NaN  NaN  1588  0.803  1.105   \n",
      "4    OAS1_0005_MR1   M    R   18   NaN  NaN   NaN  NaN  1737  0.848  1.010   \n",
      "..             ...  ..  ...  ...   ...  ...   ...  ...   ...    ...    ...   \n",
      "431  OAS1_0285_MR2   M    R   20   NaN  NaN   NaN  NaN  1469  0.847  1.195   \n",
      "432  OAS1_0353_MR2   M    R   22   NaN  NaN   NaN  NaN  1684  0.790  1.042   \n",
      "433  OAS1_0368_MR2   M    R   22   NaN  NaN   NaN  NaN  1580  0.856  1.111   \n",
      "434  OAS1_0379_MR2   F    R   20   NaN  NaN   NaN  NaN  1262  0.861  1.390   \n",
      "435  OAS1_0395_MR2   F    R   26   NaN  NaN   NaN  NaN  1283  0.834  1.368   \n",
      "\n",
      "     Delay  \n",
      "0      NaN  \n",
      "1      NaN  \n",
      "2      NaN  \n",
      "3      NaN  \n",
      "4      NaN  \n",
      "..     ...  \n",
      "431    2.0  \n",
      "432   40.0  \n",
      "433   89.0  \n",
      "434    2.0  \n",
      "435   39.0  \n",
      "\n",
      "[436 rows x 12 columns]\n",
      "        ID    M/F   Hand    Age   Educ    SES   MMSE    CDR   eTIV   nWBV  \\\n",
      "0    False  False  False  False  False  False  False  False  False  False   \n",
      "1    False  False  False  False  False  False  False  False  False  False   \n",
      "2    False  False  False  False  False  False  False  False  False  False   \n",
      "3    False  False  False  False   True   True   True   True  False  False   \n",
      "4    False  False  False  False   True   True   True   True  False  False   \n",
      "..     ...    ...    ...    ...    ...    ...    ...    ...    ...    ...   \n",
      "431  False  False  False  False   True   True   True   True  False  False   \n",
      "432  False  False  False  False   True   True   True   True  False  False   \n",
      "433  False  False  False  False   True   True   True   True  False  False   \n",
      "434  False  False  False  False   True   True   True   True  False  False   \n",
      "435  False  False  False  False   True   True   True   True  False  False   \n",
      "\n",
      "       ASF  Delay  \n",
      "0    False   True  \n",
      "1    False   True  \n",
      "2    False   True  \n",
      "3    False   True  \n",
      "4    False   True  \n",
      "..     ...    ...  \n",
      "431  False  False  \n",
      "432  False  False  \n",
      "433  False  False  \n",
      "434  False  False  \n",
      "435  False  False  \n",
      "\n",
      "[436 rows x 12 columns]\n"
     ]
    }
   ],
   "source": [
    "# Print the DataFrame and check for NaN values\n",
    "print(cross_df)\n",
    "nan_values = cross_df.isna()\n",
    "print(nan_values)\n"
   ]
  },
  {
   "cell_type": "code",
   "execution_count": 7,
   "metadata": {},
   "outputs": [
    {
     "data": {
      "text/html": [
       "<div>\n",
       "<style scoped>\n",
       "    .dataframe tbody tr th:only-of-type {\n",
       "        vertical-align: middle;\n",
       "    }\n",
       "\n",
       "    .dataframe tbody tr th {\n",
       "        vertical-align: top;\n",
       "    }\n",
       "\n",
       "    .dataframe thead th {\n",
       "        text-align: right;\n",
       "    }\n",
       "</style>\n",
       "<table border=\"1\" class=\"dataframe\">\n",
       "  <thead>\n",
       "    <tr style=\"text-align: right;\">\n",
       "      <th></th>\n",
       "      <th>ID</th>\n",
       "      <th>M/F</th>\n",
       "      <th>Hand</th>\n",
       "      <th>Age</th>\n",
       "      <th>Educ</th>\n",
       "      <th>SES</th>\n",
       "      <th>MMSE</th>\n",
       "      <th>CDR</th>\n",
       "      <th>eTIV</th>\n",
       "      <th>nWBV</th>\n",
       "      <th>ASF</th>\n",
       "      <th>Delay</th>\n",
       "    </tr>\n",
       "  </thead>\n",
       "  <tbody>\n",
       "  </tbody>\n",
       "</table>\n",
       "</div>"
      ],
      "text/plain": [
       "Empty DataFrame\n",
       "Columns: [ID, M/F, Hand, Age, Educ, SES, MMSE, CDR, eTIV, nWBV, ASF, Delay]\n",
       "Index: []"
      ]
     },
     "execution_count": 7,
     "metadata": {},
     "output_type": "execute_result"
    }
   ],
   "source": [
    "\n",
    "# Drop all rows that contain NaN values\n",
    "cross_df_cleaned = cross_df.dropna()\n",
    "\n",
    "cross_df_cleaned"
   ]
  },
  {
   "cell_type": "code",
   "execution_count": 13,
   "metadata": {},
   "outputs": [
    {
     "name": "stdout",
     "output_type": "stream",
     "text": [
      "Logistic Regression Accuracy: 0.8645833333333334\n",
      "Logistic Regression Classification Report:\n",
      "              precision    recall  f1-score   support\n",
      "\n",
      "           0       0.85      0.93      0.89        57\n",
      "           1       0.88      0.77      0.82        39\n",
      "\n",
      "    accuracy                           0.86        96\n",
      "   macro avg       0.87      0.85      0.86        96\n",
      "weighted avg       0.87      0.86      0.86        96\n",
      "\n",
      "Logistic Regression Confusion Matrix:\n",
      "[[53  4]\n",
      " [ 9 30]]\n"
     ]
    }
   ],
   "source": [
    "import pandas as pd\n",
    "from sklearn.model_selection import train_test_split\n",
    "from sklearn.linear_model import LogisticRegression\n",
    "from sklearn.metrics import classification_report, accuracy_score, confusion_matrix\n",
    "\n",
    "# Map 'Group', 'Hand' and 'M/F' columns to binary values\n",
    "longitudinal_df['Group_Binary'] = longitudinal_df['Group'].map({'Demented': 1, 'Nondemented': 0})\n",
    "longitudinal_df['Hand_Binary'] = longitudinal_df['Hand'].map({'R': 1, 'L': 0})\n",
    "longitudinal_df['Gender_Binary'] = longitudinal_df['M/F'].map({'M': 1, 'F': 0})\n",
    "\n",
    "# Drop rows with NaN in 'Group_Binary'\n",
    "longitudinal_df = longitudinal_df.dropna(subset=['Group_Binary','SES','MMSE','nWBV','Hand_Binary'])\n",
    "\n",
    "# Define the dependent and independent variables using the binary encoded columns\n",
    "X = longitudinal_df[['MMSE','nWBV','ASF','SES']]\n",
    "y = longitudinal_df['Group_Binary']\n",
    "\n",
    "# Split the data into training and test sets\n",
    "X_train, X_test, y_train, y_test = train_test_split(X, y, test_size=0.3, random_state=42)\n",
    "\n",
    "# Create the model\n",
    "model = LogisticRegression()\n",
    "\n",
    "# Fit the model\n",
    "model.fit(X_train, y_train)\n",
    "\n",
    "# Predict values\n",
    "y_pred = model.predict(X_test)\n",
    "\n",
    "# Print the accuracy\n",
    "print(f'Logistic Regression Accuracy: {accuracy_score(y_test, y_pred)}')\n",
    "\n",
    "# Print the classification report\n",
    "print('Logistic Regression Classification Report:')\n",
    "print(classification_report(y_test, y_pred))\n",
    "\n",
    "# Print the confusion matrix\n",
    "cm_logreg = confusion_matrix(y_test, y_pred)\n",
    "print('Logistic Regression Confusion Matrix:')\n",
    "print(cm_logreg)\n"
   ]
  },
  {
   "cell_type": "markdown",
   "metadata": {},
   "source": [
    "Notes for when I make a return:\n",
    "\n",
    "I need to be able to find a linear correlation between a variable that would not be able to directly reveal dementia, but are directly correlated to the variables that ARE directly correlated with dimensia. These variables being SES, MMSE, nWBV, etc. I also then need to hope back into the photo analysis and lock in on that neural network model."
   ]
  },
  {
   "cell_type": "code",
   "execution_count": 9,
   "metadata": {},
   "outputs": [
    {
     "name": "stdout",
     "output_type": "stream",
     "text": [
      "Correlation matrix for selected columns:\n",
      "                   MMSE      nWBV       ASF       SES  Group_Binary  \\\n",
      "MMSE           1.000000  0.370714  0.031693 -0.135219     -0.623282   \n",
      "nWBV           0.370714  1.000000  0.197790  0.048502     -0.331292   \n",
      "ASF            0.031693  0.197790  1.000000  0.282657      0.004759   \n",
      "SES           -0.135219  0.048502  0.282657  1.000000      0.164715   \n",
      "Group_Binary  -0.623282 -0.331292  0.004759  0.164715      1.000000   \n",
      "Hand_Binary         NaN       NaN       NaN       NaN           NaN   \n",
      "Gender_Binary -0.174880 -0.214547 -0.547144 -0.027069      0.274376   \n",
      "EDUC           0.185075  0.015912 -0.252298 -0.733018     -0.220565   \n",
      "Age            0.046052 -0.497126 -0.024315 -0.005012     -0.053649   \n",
      "\n",
      "               Hand_Binary  Gender_Binary      EDUC       Age  \n",
      "MMSE                   NaN      -0.174880  0.185075  0.046052  \n",
      "nWBV                   NaN      -0.214547  0.015912 -0.497126  \n",
      "ASF                    NaN      -0.547144 -0.252298 -0.024315  \n",
      "SES                    NaN      -0.027069 -0.733018 -0.005012  \n",
      "Group_Binary           NaN       0.274376 -0.220565 -0.053649  \n",
      "Hand_Binary            NaN            NaN       NaN       NaN  \n",
      "Gender_Binary          NaN       1.000000  0.040806 -0.054018  \n",
      "EDUC                   NaN       0.040806  1.000000 -0.045386  \n",
      "Age                    NaN      -0.054018 -0.045386  1.000000  \n"
     ]
    }
   ],
   "source": [
    "# Select the three columns you want to analyze\n",
    "columns_of_interest = ['MMSE','nWBV','ASF','SES','Group_Binary','Hand_Binary','Gender_Binary','EDUC','Age']\n",
    "\n",
    "# Calculate the correlation matrix for the selected columns\n",
    "correlation_matrix_selected = longitudinal_df[columns_of_interest].corr()\n",
    "# Print the correlation matrix for the selected columns\n",
    "print(\"Correlation matrix for selected columns:\")\n",
    "print(correlation_matrix_selected)"
   ]
  },
  {
   "cell_type": "markdown",
   "metadata": {},
   "source": [
    "From this correlation matrix, the only conclusions I can draw is that women typically have higher brain volumes (r = .547), people of higher socioeconomic status are more likely to be educated (r = .733), and nondemented brains are more likely to score higher on the mini mental state examination (r = .623). Another conclusion that can be drawn is that the older you are, the less brain tissue to total intracranial volume you will have; moreover, you lose brain tissue the older you get (r = .497)"
   ]
  },
  {
   "cell_type": "markdown",
   "metadata": {},
   "source": [
    "The two highest correlated columns to demented brains are MMSE and nWBV. I will now look at those individual columns correlation to other columns to try and find the best predictors of dementia."
   ]
  },
  {
   "cell_type": "code",
   "execution_count": 10,
   "metadata": {},
   "outputs": [
    {
     "name": "stdout",
     "output_type": "stream",
     "text": [
      "Mean Squared Error: 13.41926454831435\n",
      "R-squared: 0.2052327594399055\n"
     ]
    },
    {
     "data": {
      "image/png": "[encoded data removed]",
      "text/plain": [
       "<Figure size 1000x600 with 1 Axes>"
      ]
     },
     "metadata": {},
     "output_type": "display_data"
    }
   ],
   "source": [
    "\n",
    "# Assuming 'df' is your DataFrame with features and target\n",
    "X = longitudinal_df[['Age','SES','nWBV']]\n",
    "y = longitudinal_df['MMSE']\n",
    "\n",
    "# Split data into training and testing sets\n",
    "X_train, X_test, y_train, y_test = train_test_split(X, y, test_size=0.2, random_state=42)\n",
    "# Scale features\n",
    "scaler = StandardScaler()\n",
    "X_train_scaled = scaler.fit_transform(X_train)\n",
    "X_test_scaled = scaler.transform(X_test)\n",
    "# Initialize and fit the model\n",
    "model = LinearRegression()\n",
    "model.fit(X_train, y_train)\n",
    "\n",
    "# Make predictions\n",
    "y_pred = model.predict(X_test)\n",
    "\n",
    "# Evaluate model performance\n",
    "mse = mean_squared_error(y_test, y_pred)\n",
    "r2 = r2_score(y_test, y_pred)\n",
    "print(f'Mean Squared Error: {mse}')\n",
    "print(f'R-squared: {r2}')\n",
    "\n",
    "# Plot actual vs. predicted values with linear regression line\n",
    "plt.figure(figsize=(10, 6))\n",
    "\n",
    "# Scatter plot of actual vs. predicted\n",
    "plt.scatter(y_test, y_pred, color='blue', alpha=0.6, label='Actual vs. Predicted')\n",
    "\n",
    "# Plotting the regression line\n",
    "plt.plot([y_test.min(), y_test.max()], [y_test.min(), y_test.max()], color='red', linestyle='--', linewidth=2, label='Regression Line')\n",
    "\n",
    "# Labels and title\n",
    "plt.xlabel('Actual Values')\n",
    "plt.ylabel('Predicted Values')\n",
    "plt.title('Actual vs. Predicted with Linear Regression Line')\n",
    "plt.legend()\n",
    "plt.grid(True)\n",
    "plt.tight_layout()\n",
    "plt.show()\n"
   ]
  },
  {
   "cell_type": "code",
   "execution_count": 12,
   "metadata": {},
   "outputs": [
    {
     "name": "stdout",
     "output_type": "stream",
     "text": [
      "KNN Accuracy: 0.875\n",
      "KNN Classification Report:\n",
      "              precision    recall  f1-score   support\n",
      "\n",
      "         0.0       0.84      0.97      0.90        37\n",
      "         1.0       0.95      0.74      0.83        27\n",
      "\n",
      "    accuracy                           0.88        64\n",
      "   macro avg       0.89      0.86      0.87        64\n",
      "weighted avg       0.89      0.88      0.87        64\n",
      "\n",
      "KNN Confusion Matrix:\n",
      "[[36  1]\n",
      " [ 7 20]]\n"
     ]
    }
   ],
   "source": [
    "# Ensure there are no NaN values\n",
    "longitudinal_df.dropna(inplace=True)\n",
    "\n",
    "# Define the feature matrix X and target variable y\n",
    "X = longitudinal_df[['MMSE', 'ASF', 'nWBV', 'EDUC']]\n",
    "y = longitudinal_df['Group_Binary']\n",
    "\n",
    "# Split the data into training and testing sets\n",
    "X_train, X_test, y_train, y_test = train_test_split(X, y, test_size=0.2, random_state=42)\n",
    "\n",
    "# Initialize the KNN classifier with k=5\n",
    "knn_classifier = KNeighborsClassifier(n_neighbors=5)\n",
    "knn_classifier.fit(X_train, y_train)\n",
    "test_predictions_knn = knn_classifier.predict(X_test)\n",
    "\n",
    "# Evaluate the KNN model using the test set\n",
    "accuracy_knn = accuracy_score(y_test, test_predictions_knn)\n",
    "print(f'KNN Accuracy: {accuracy_knn}')\n",
    "print('KNN Classification Report:')\n",
    "print(classification_report(y_test, test_predictions_knn))\n",
    "\n",
    "# Print the confusion matrix\n",
    "cm_knn = confusion_matrix(y_test, test_predictions_knn)\n",
    "print('KNN Confusion Matrix:')\n",
    "print(cm_knn)"
   ]
  },
  {
   "cell_type": "markdown",
   "metadata": {},
   "source": [
    "After trial and error, these four variables give me the highest accuracy and most accurate confusion matrix. Moreover, these independent variables lead to the lowest amount of false positives and false negatives."
   ]
  },
  {
   "cell_type": "code",
   "execution_count": 14,
   "metadata": {},
   "outputs": [
    {
     "name": "stdout",
     "output_type": "stream",
     "text": [
      "Cluster Centers:\n",
      "[[27.31967213  1.06685246  0.71381148 16.67213115]\n",
      " [27.22564103  1.26965641  0.74109744 13.32820513]]\n",
      "Cluster Assignments vs. Actual Groups:\n",
      "Group_Binary    0   1\n",
      "Cluster              \n",
      "0              76  46\n",
      "1             114  81\n",
      "  Subject ID         MRI ID        Group  Visit  MR Delay M/F Hand  Age  EDUC  \\\n",
      "0  OAS2_0001  OAS2_0001_MR1  Nondemented      1         0   M    R   87    14   \n",
      "1  OAS2_0001  OAS2_0001_MR2  Nondemented      2       457   M    R   88    14   \n",
      "5  OAS2_0004  OAS2_0004_MR1  Nondemented      1         0   F    R   88    18   \n",
      "6  OAS2_0004  OAS2_0004_MR2  Nondemented      2       538   F    R   90    18   \n",
      "7  OAS2_0005  OAS2_0005_MR1  Nondemented      1         0   M    R   80    12   \n",
      "\n",
      "   SES  MMSE  CDR  eTIV   nWBV    ASF  Group_Binary  Hand_Binary  \\\n",
      "0  2.0  27.0  0.0  1987  0.696  0.883             0            1   \n",
      "1  2.0  30.0  0.0  2004  0.681  0.876             0            1   \n",
      "5  3.0  28.0  0.0  1215  0.710  1.444             0            1   \n",
      "6  3.0  27.0  0.0  1200  0.718  1.462             0            1   \n",
      "7  4.0  28.0  0.0  1689  0.712  1.039             0            1   \n",
      "\n",
      "   Gender_Binary  Cluster  \n",
      "0              1        0  \n",
      "1              1        0  \n",
      "5              0        1  \n",
      "6              0        1  \n",
      "7              1        0  \n"
     ]
    }
   ],
   "source": [
    "import pandas as pd\n",
    "from sklearn.cluster import KMeans\n",
    "from sklearn.preprocessing import StandardScaler\n",
    "\n",
    "# Ensure there are no NaN values\n",
    "longitudinal_df.dropna(inplace=True)\n",
    "\n",
    "# Define the feature matrix X\n",
    "X = longitudinal_df[['MMSE', 'ASF', 'nWBV', 'EDUC']]\n",
    "\n",
    "# Standardize the features\n",
    "scaler = StandardScaler()\n",
    "X_scaled = scaler.fit_transform(X)\n",
    "\n",
    "# Initialize KMeans with the number of clusters you want (e.g., 2 for demented and non-demented)\n",
    "kmeans = KMeans(n_clusters=2, random_state=42)\n",
    "\n",
    "# Fit the model to your data\n",
    "kmeans.fit(X_scaled)\n",
    "\n",
    "# Get cluster assignments\n",
    "labels = kmeans.labels_\n",
    "\n",
    "# Add the cluster assignments to the DataFrame\n",
    "longitudinal_df['Cluster'] = labels\n",
    "\n",
    "# Print the cluster centers\n",
    "print('Cluster Centers:')\n",
    "print(scaler.inverse_transform(kmeans.cluster_centers_))\n",
    "\n",
    "# Evaluate the clusters by comparing with the actual 'Group_Binary' values\n",
    "print('Cluster Assignments vs. Actual Groups:')\n",
    "print(pd.crosstab(longitudinal_df['Cluster'], longitudinal_df['Group_Binary']))\n",
    "\n",
    "# Print cluster labels for first few rows\n",
    "print(longitudinal_df.head())\n"
   ]
  },
  {
   "cell_type": "code",
   "execution_count": null,
   "metadata": {},
   "outputs": [],
   "source": []
  }
 ],
 "metadata": {
  "kernelspec": {
   "display_name": "Python 3",
   "language": "python",
   "name": "python3"
  },
  "language_info": {
   "codemirror_mode": {
    "name": "ipython",
    "version": 3
   },
   "file_extension": ".py",
   "mimetype": "text/x-python",
   "name": "python",
   "nbconvert_exporter": "python",
   "pygments_lexer": "ipython3",
   "version": "3.11.9"
  }
 },
 "nbformat": 4,
 "nbformat_minor": 2
}
